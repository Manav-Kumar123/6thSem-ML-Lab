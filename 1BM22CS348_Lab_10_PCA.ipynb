{
  "nbformat": 4,
  "nbformat_minor": 0,
  "metadata": {
    "colab": {
      "provenance": []
    },
    "kernelspec": {
      "name": "python3",
      "display_name": "Python 3"
    },
    "language_info": {
      "name": "python"
    }
  },
  "cells": [
    {
      "cell_type": "code",
      "source": [
        "# Importing necessary libraries\n",
        "import pandas as pd\n",
        "import numpy as np\n",
        "from sklearn.preprocessing import LabelEncoder, StandardScaler\n",
        "from sklearn.model_selection import train_test_split\n",
        "from sklearn.svm import SVC\n",
        "from sklearn.linear_model import LogisticRegression\n",
        "from sklearn.ensemble import RandomForestClassifier\n",
        "from sklearn.metrics import accuracy_score\n",
        "from sklearn.decomposition import PCA\n",
        "\n",
        "# Load dataset\n",
        "df = pd.read_csv(\"heart.csv\")\n",
        "\n",
        "# Separate features and target\n",
        "X = df.drop(\"HeartDisease\", axis=1)\n",
        "y = df[\"HeartDisease\"]\n",
        "\n",
        "# Identify categorical columns\n",
        "cat_cols = X.select_dtypes(include=['object']).columns.tolist()\n",
        "\n",
        "# Label Encode binary categorical columns\n",
        "label_enc = LabelEncoder()\n",
        "for col in cat_cols:\n",
        "    if X[col].nunique() == 2:\n",
        "        X[col] = label_enc.fit_transform(X[col])\n",
        "        cat_cols.remove(col)\n",
        "\n",
        "# One-hot encode remaining categorical columns\n",
        "X = pd.get_dummies(X, columns=cat_cols)\n",
        "\n",
        "# Train-test split\n",
        "X_train, X_test, y_train, y_test = train_test_split(X, y, test_size=0.2, random_state=42)\n",
        "\n",
        "# Feature Scaling\n",
        "scaler = StandardScaler()\n",
        "X_train_scaled = scaler.fit_transform(X_train)\n",
        "X_test_scaled = scaler.transform(X_test)\n",
        "\n",
        "# Initialize models\n",
        "models = {\n",
        "    \"Logistic Regression\": LogisticRegression(max_iter=1000),\n",
        "    \"SVM\": SVC(),\n",
        "    \"Random Forest\": RandomForestClassifier()\n",
        "}\n",
        "\n",
        "# Store accuracy scores\n",
        "accuracy_before_pca = {}\n",
        "accuracy_after_pca = {}\n",
        "\n",
        "# Training and evaluating models before PCA\n",
        "for name, model in models.items():\n",
        "    model.fit(X_train_scaled, y_train)\n",
        "    y_pred = model.predict(X_test_scaled)\n",
        "    acc = accuracy_score(y_test, y_pred)\n",
        "    accuracy_before_pca[name] = acc\n",
        "\n",
        "# Apply PCA\n",
        "pca = PCA(n_components=0.95)  # retain 95% variance\n",
        "X_train_pca = pca.fit_transform(X_train_scaled)\n",
        "X_test_pca = pca.transform(X_test_scaled)\n",
        "\n",
        "# Training and evaluating models after PCA\n",
        "for name, model in models.items():\n",
        "    model.fit(X_train_pca, y_train)\n",
        "    y_pred = model.predict(X_test_pca)\n",
        "    acc = accuracy_score(y_test, y_pred)\n",
        "    accuracy_after_pca[name] = acc\n",
        "\n",
        "# Print accuracy comparison\n",
        "print(\"Model Accuracy Comparison (Before vs After PCA):\")\n",
        "print(f\"{'Model':<20} {'Before PCA':<15} {'After PCA':<15}\")\n",
        "for name in models.keys():\n",
        "    print(f\"{name:<20} {accuracy_before_pca[name]:<15.4f} {accuracy_after_pca[name]:<15.4f}\")\n"
      ],
      "metadata": {
        "colab": {
          "base_uri": "https://localhost:8080/"
        },
        "id": "aYcgZeKahuGq",
        "outputId": "554cc4e6-faf9-43b2-81d9-fbcb13d0675e"
      },
      "execution_count": null,
      "outputs": [
        {
          "output_type": "stream",
          "name": "stdout",
          "text": [
            "Model Accuracy Comparison (Before vs After PCA):\n",
            "Model                Before PCA      After PCA      \n",
            "Logistic Regression  0.8533          0.8533         \n",
            "SVM                  0.8804          0.8804         \n",
            "Random Forest        0.8750          0.8533         \n"
          ]
        }
      ]
    }
  ]
}